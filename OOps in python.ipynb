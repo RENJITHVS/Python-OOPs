{
 "cells": [
  {
   "cell_type": "markdown",
   "id": "c817c8ba",
   "metadata": {},
   "source": [
    "# Overview\n",
    "\n",
    "Object-oriented programming (OOP) is a programming pattern based on the concept of objects. Objects consists of data and methods. The object's data are it's properties, that defines what it is. And the object's methods, are it's functions, that defines what the object can do. Object-oriented style of programming is very popular because of it's ability to map the virtual world entities i.e. our code, to the real world objects. OOPS concepts are widely used by many popular programming languages due to the several advantages it provides.\n",
    "\n",
    "In this article we will study about the OOPS concepts in python programming."
   ]
  },
  {
   "cell_type": "markdown",
   "id": "11d5ef44",
   "metadata": {},
   "source": [
    "## Scope of the Article\n",
    "In this article, you’ll learn the following concepts:\n",
    "\n",
    "- OOPS concepts in python\n",
    "- The major difference between object and procedural oriented programming\n",
    "- Details and related examples on Class, Objects & Instance Method in Python\n",
    "- The building blocks(fundamental) of OOPS in Python like Polymorphism, encapsulation, inheritance and Data abstraction\n",
    "\n",
    "The overall article will meet the scope we have mentioned above, and deal with all the OOPS concepts in python."
   ]
  },
  {
   "cell_type": "markdown",
   "id": "383ca744",
   "metadata": {},
   "source": [
    "### Class and Objects in Python\n",
    "Suppose you wish to store the number of books you have, you can simply do that by using a variable. Or, say you want to calculate the sum of 5 numbers and store it in a variable, well, that can be done too!\n",
    "\n",
    "Primitive data structures like numbers, strings, and lists are designed to store simple values in a variable. Suppose, your name, or square of a number, or count of some marbles (say).\n",
    "\n",
    "But what if you need to store the details of all the Employees in your company? For example, you may try to store every employee in a list, you may later be confused about which index of the list represents what details of the employee(e.g. which is the name field, or the empID etc.)\n",
    "\n",
    "Example:"
   ]
  },
  {
   "cell_type": "code",
   "execution_count": 1,
   "id": "6fdcfa29",
   "metadata": {},
   "outputs": [],
   "source": [
    "employee1 = ['John Smith', 104120, \"Developer\", \"Dept. 2A\"]\n",
    "employee2 = ['Mark Reeves', 211240, \"Database Designer\", \"Dept. 11B\"]\n",
    "employee3 = ['Steward Jobs', 131124, \"Manager\", \"Dept. 2A\"]"
   ]
  },
  {
   "cell_type": "markdown",
   "id": "f1ec5329",
   "metadata": {},
   "source": [
    "Even if you try to store them in a dictionary, after an extent, the whole codebase will be too complex to handle. So, in these scenarios, we use Classes in python.\n",
    "\n",
    "A class is used to create user-defined data structures in Python. Classes define functions, which are termed as methods, that describe the behaviors and actions that an object created from a class can perform. OOPS concepts in python majorly deals with classes and objects.\n",
    "\n",
    "Classes make the code more manageable by avoiding complex codebases. It does so, by creating a blueprint or a design of how anything should be defined. It defines what properties or functions, any object which is derived from the class should have.\n",
    "\n",
    "- IMPORTANT:\n",
    "\n",
    "A class just defines the structure of how anything should look. It does not point to anything or anyone in particular. For example, say, HUMAN is a class, which has suppose -- name, age, gender, city. It does not point to any specific HUMAN out there, but yes, it explains the properties and functions any HUMAN should have or any object of class HUMAN should have.\n",
    "\n",
    "An instance of a class is called the object. It is the implementation of the class and exists in real.\n",
    "\n",
    "An object is a collection of data (variables) and methods (functions) that access the data. It is the real implementation of a class."
   ]
  },
  {
   "cell_type": "markdown",
   "id": "2947b74a",
   "metadata": {},
   "source": [
    "When a class is defined, only the blueprint of the object is created, and no memory is allocated to the class. Memory allocation occurs only when the object or instance is created. The object or instance contains the real data or information."
   ]
  },
  {
   "cell_type": "markdown",
   "id": "718d062b",
   "metadata": {},
   "source": [
    "## How to Define a Class in Python?\n",
    "\n",
    "Classes in Python can be defined by the keyword class, which is followed by the name of the class and a colon."
   ]
  },
  {
   "cell_type": "code",
   "execution_count": 2,
   "id": "dce5002f",
   "metadata": {},
   "outputs": [],
   "source": [
    "class Human:\n",
    "    pass"
   ]
  },
  {
   "cell_type": "markdown",
   "id": "f3c3bd12",
   "metadata": {},
   "source": [
    "Indented code below the class definition is considered part of the class body.\n",
    "\n",
    "'pass' is commonly used as placeholders, in the place of code whose implementation we may skip for the time being. \"pass\" allows us to run the code without throwing an error in Python."
   ]
  },
  {
   "cell_type": "markdown",
   "id": "43e25d88",
   "metadata": {},
   "source": [
    "## What is an __init__ method?\n",
    "The properties that all Human objects must have, are defined in a method called init(). Every time a new Human object is created, __init__() sets the initial state of the object by assigning the values of we provide inside the object’s properties. That is, __init__() initializes each new instance of the class. __init__() can take any number of parameters, but the first parameter is always a variable called self.\n",
    "\n",
    "The self parameter is a reference to the current instance of the class. It means, the self parameter points to the address of the current object of a class, allowing us to access the data of its(the object's) variables.\n",
    "\n",
    "So, even if we have 1000 instances (objects) of a class, we can always get each of their individual data due to this self, because it will point to the address of that particular object and return the respective value.\n",
    "\n",
    "Note:\n",
    "\n",
    "We can use any name in place of self, but it has to be the first parameter of any function in the class.\n",
    "\n",
    "Let us see, how to define __init__() in the Human class:"
   ]
  },
  {
   "cell_type": "code",
   "execution_count": 3,
   "id": "2c4bce89",
   "metadata": {},
   "outputs": [],
   "source": [
    "class Human:\n",
    "    def __init__(self, name, age, gender):\n",
    "        self.name = name\n",
    "        self.age = age\n",
    "        self.gender = gender"
   ]
  },
  {
   "cell_type": "markdown",
   "id": "ca16d162",
   "metadata": {},
   "source": [
    "In the body of .__init__(), we are using the self variable 3 times, for the following:\n",
    "\n",
    "self.name = 'name' creates an attribute called name and assigns to it the value of the name parameter.\n",
    "\n",
    "self.age = age attribute is created and assigned to the value of age parameter passed.\n",
    "\n",
    "self.gender = gender attribute is created and assigned to the value of gender parameter passed.\n",
    "\n",
    "There are 2 types of attributes in Python:\n",
    "\n",
    "1. Class Attribute:\n",
    "These are the variables that are same for all instances of the class. They do not have new values for each new instance created. They are defined just below the class definition."
   ]
  },
  {
   "cell_type": "code",
   "execution_count": 4,
   "id": "74d9936f",
   "metadata": {},
   "outputs": [],
   "source": [
    "class Human:\n",
    "    #class attribute\n",
    "    species = \"Homo Sapiens\""
   ]
  },
  {
   "cell_type": "markdown",
   "id": "13e80aeb",
   "metadata": {},
   "source": [
    "Here, the species will have a fixed value for any object we create.\n",
    "\n",
    "2. Instance Attribute:\n",
    "Instance attributes are the variables which are defined inside of any function in class. Instance attribute have different values for every instance of the class. These values depends upon the value we pass while creating the instance.\n",
    "\n",
    "Code:"
   ]
  },
  {
   "cell_type": "code",
   "execution_count": 5,
   "id": "c103c8f5",
   "metadata": {},
   "outputs": [],
   "source": [
    "class Human:\n",
    "    #class attribute\n",
    "    species = \"Homo Sapiens\"\n",
    "    def __init__(self, name, age, gender):\n",
    "        self.name = name\n",
    "        self.age = age\n",
    "        self.gender = gender"
   ]
  },
  {
   "cell_type": "markdown",
   "id": "855a5af5",
   "metadata": {},
   "source": [
    "Here, name,age and gender are the instance attributes. They will have different values as for new instances of class.\n",
    "\n",
    "For properties that should have a similar value per instance of a class, use class attributes. For properties that differ per instance, use instance attributes."
   ]
  },
  {
   "cell_type": "markdown",
   "id": "49f25740",
   "metadata": {},
   "source": [
    "## Creating an Object in Class\n",
    "\n",
    "When we create a new object from a class, it is called instantiating an object. An object can be instantiated by the class name followed by the parantheses. We can assign the object of a class to any variable.\n",
    "\n",
    "As soon as an object is instantiated, memory is allocated to them. So, if we compare 2 instances of a same class using '==', it will return false(because both will have different memory assigned).\n",
    "\n",
    "Suppose, we try to create objects of our Human class, then we also need to pass the values for name, age and gender."
   ]
  },
  {
   "cell_type": "code",
   "execution_count": 8,
   "id": "8a95fea8",
   "metadata": {},
   "outputs": [
    {
     "data": {
      "text/plain": [
       "'Homo Sapiens'"
      ]
     },
     "execution_count": 8,
     "metadata": {},
     "output_type": "execute_result"
    }
   ],
   "source": [
    "class Human:\n",
    "    #class attribute\n",
    "    species = \"Homo Sapiens\"\n",
    "    def __init__(self, name, age, gender):\n",
    "        self.name = name\n",
    "        self.age = age\n",
    "        self.gender = gender\n",
    "        \n",
    "x = Human(\"Ron\", 15, \"Male\") \n",
    "y = Human(\"Miley\", 22, \"Female\")\n",
    "x.species"
   ]
  },
  {
   "cell_type": "markdown",
   "id": "f481fba9",
   "metadata": {},
   "source": [
    "Here, we have created 2 objects of the class Human passing all the required arguments.\n",
    "\n",
    "Warning: If we do not pass the required arguments, it will throw a TypeError: TypeError: init() missing 3 required positional arguments: 'name', 'age' and 'gender'.\n",
    "\n",
    "Let us now see, how to access those values using objects of the class. We can access the values of the instances by using the dot notation."
   ]
  },
  {
   "cell_type": "markdown",
   "id": "b13931fc",
   "metadata": {},
   "source": []
  },
  {
   "cell_type": "markdown",
   "id": "c0c6e132",
   "metadata": {},
   "source": [
    "## Instance Methods\n",
    "An instance method is a function defined within a class that can be called only from instances of that class. Like init(), an instance method's first parameter is always self.\n",
    "\n",
    "Let's take an example and implement some functions can class Human can perform --\n",
    "\n",
    "Code:"
   ]
  },
  {
   "cell_type": "code",
   "execution_count": 11,
   "id": "779d79f7",
   "metadata": {},
   "outputs": [
    {
     "name": "stdout",
     "output_type": "stream",
     "text": [
      "renjith of 32 is Male\n",
      "I love eating this pav-baajii\n"
     ]
    }
   ],
   "source": [
    "class Human:\n",
    "    #class attribute\n",
    "    species = \"Homo Sapies\"\n",
    "    def __init__(self,name, age, gender):\n",
    "        self.name = name\n",
    "        self.age = age\n",
    "        self.gender = gender\n",
    "        \n",
    "    #instance Method\n",
    "    def speak(self):\n",
    "        return f\"{self.name} of {self.age} is {self.gender}\"\n",
    "    \n",
    "    #instance Method\n",
    "    def eat(self, favoriteDish):\n",
    "        return f\"I love eating this {favoriteDish}\"\n",
    "    \n",
    "x = Human('renjith',32, \"Male\")\n",
    "print(x.speak())\n",
    "print(x.eat(\"pav-baajii\"))"
   ]
  },
  {
   "cell_type": "markdown",
   "id": "9043f1bc",
   "metadata": {},
   "source": [
    "## Fundamentals of OOPS in Python\n",
    "There are four fundamental concepts of Object-oriented programming –\n",
    "\n",
    "- Inheritance\n",
    "- Encapsulation\n",
    "- Polymorphism\n",
    "- Data abstraction\n",
    "\n",
    "Let us now look into each of the OOPS concepts in python deeply."
   ]
  },
  {
   "cell_type": "markdown",
   "id": "d786c0ce",
   "metadata": {},
   "source": [
    "## Inheritance\n",
    "People often say to new born babies that they have got similar facial features to their parents, or that they have inherited certain features from their parents. It is likely that you too have noticed that you have inherited some or the other features from your parents.\n",
    "\n",
    "Inheritance too is very similar to the real life scenario. But here, the \"child classes\" inherit features from their \"parent classes.\" And the features they inherit here are termed as \"properties\" and \"methods\"!\n",
    "\n",
    "Inheritance is the process by which a class can inherit or derive the properties(or data) and methods(or functions) of another class. Simply, the process of inheriting the properties of parent class into a child class is known as inheritance.\n",
    "\n",
    "The class whose properties are inherited is the Parent class, and the class that inherits the properties from the Parent class is the Child class.\n",
    "\n",
    "Let us see the syntax of inheritance in Python:\n",
    "\n"
   ]
  },
  {
   "cell_type": "code",
   "execution_count": 16,
   "id": "a769d532",
   "metadata": {},
   "outputs": [
    {
     "name": "stdout",
     "output_type": "stream",
     "text": [
      "Hey! My name is John has 15 is Male\n",
      "I will study is abc school\n",
      "Hey! My name is Lily has 20 is girl\n"
     ]
    },
    {
     "ename": "AttributeError",
     "evalue": "'Human' object has no attribute 'schoolName'",
     "output_type": "error",
     "traceback": [
      "\u001b[1;31m---------------------------------------------------------------------------\u001b[0m",
      "\u001b[1;31mAttributeError\u001b[0m                            Traceback (most recent call last)",
      "\u001b[1;32m~\\AppData\\Local\\Temp\\ipykernel_19116\\2760237554.py\u001b[0m in \u001b[0;36m<module>\u001b[1;34m\u001b[0m\n\u001b[0;32m     18\u001b[0m \u001b[0mh\u001b[0m \u001b[1;33m=\u001b[0m \u001b[0mHuman\u001b[0m\u001b[1;33m(\u001b[0m\u001b[1;34m'Lily'\u001b[0m\u001b[1;33m,\u001b[0m\u001b[1;36m20\u001b[0m\u001b[1;33m,\u001b[0m\u001b[1;34m'girl'\u001b[0m\u001b[1;33m)\u001b[0m \u001b[1;31m# h is the object of the parent class - Human\u001b[0m\u001b[1;33m\u001b[0m\u001b[1;33m\u001b[0m\u001b[0m\n\u001b[0;32m     19\u001b[0m \u001b[0mprint\u001b[0m\u001b[1;33m(\u001b[0m\u001b[0mh\u001b[0m\u001b[1;33m.\u001b[0m\u001b[0mdescribe\u001b[0m\u001b[1;33m(\u001b[0m\u001b[1;33m)\u001b[0m\u001b[1;33m)\u001b[0m\u001b[1;33m\u001b[0m\u001b[1;33m\u001b[0m\u001b[0m\n\u001b[1;32m---> 20\u001b[1;33m \u001b[0mprint\u001b[0m\u001b[1;33m(\u001b[0m\u001b[0mh\u001b[0m\u001b[1;33m.\u001b[0m\u001b[0mschoolName\u001b[0m\u001b[1;33m(\u001b[0m\u001b[1;34m'ABC Academy'\u001b[0m\u001b[1;33m)\u001b[0m\u001b[1;33m)\u001b[0m \u001b[1;31m#cannot access child class's method using parent class's object\u001b[0m\u001b[1;33m\u001b[0m\u001b[1;33m\u001b[0m\u001b[0m\n\u001b[0m",
      "\u001b[1;31mAttributeError\u001b[0m: 'Human' object has no attribute 'schoolName'"
     ]
    }
   ],
   "source": [
    "class Human:\n",
    "    def __init__(self, name, age, gender):\n",
    "        self.name = name\n",
    "        self.age = age\n",
    "        self.gender = gender\n",
    "        \n",
    "    def describe(self):\n",
    "        return f\"Hey! My name is {self.name} has {self.age} is {self.gender}\"\n",
    "    \n",
    "class Boy(Human):\n",
    "    def schoolName(self, schoolname):\n",
    "        return f\"I will study is {schoolname}\"\n",
    "    \n",
    "b = Boy('John', 15, \"Male\")\n",
    "print(b.describe())\n",
    "print(b.schoolName(\"abc school\"))\n",
    "\n",
    "h = Human('Lily',20,'girl') # h is the object of the parent class - Human\n",
    "print(h.describe())\n",
    "print(h.schoolName('ABC Academy')) #cannot access child class's method using parent class's object"
   ]
  },
  {
   "cell_type": "markdown",
   "id": "d8615eab",
   "metadata": {},
   "source": [
    "## Super()\n",
    "The super() function in python is a inheritance-related function that refers to the parent class. We can use it to find the method with a particular name in an object’s superclass. It is a very useful function. Let us see how it works --\n",
    "\n",
    "Syntax: This is the syntax of the super function. We write the super() keyword followed by the method name we want to refer from our parent class."
   ]
  },
  {
   "cell_type": "code",
   "execution_count": 19,
   "id": "b9e7983c",
   "metadata": {},
   "outputs": [
    {
     "name": "stdout",
     "output_type": "stream",
     "text": [
      "Hey! My name is Lily, I'm a girl and I'm 20 years old\n",
      "I can dance\n"
     ]
    }
   ],
   "source": [
    "class Human:\n",
    "    def __init__(self,name,age,gender):\n",
    "        self.name = name\n",
    "        self.age = age\n",
    "        self.gender = gender\n",
    "    def description(self):\n",
    "        print(f\"Hey! My name is {self.name}, I'm a {self.gender} and I'm {self.age} years old\")\n",
    "    \n",
    "    def dance(self):\n",
    "        print(\"I can dance\")\n",
    "        \n",
    "class Girl(Human):\n",
    "    def dance(self):\n",
    "        print(\"I can do classic dance\")\n",
    "    def activity(self):\n",
    "        super().dance()\n",
    "g = Girl('Lily', 20, 'girl')\n",
    "g.description()\n",
    "g.activity()\n",
    "        "
   ]
  },
  {
   "cell_type": "markdown",
   "id": "bcdda42e",
   "metadata": {},
   "source": [
    "Here, we have defined the dance() method in Human and Girl classes. But, both the methods have different implementations as you can see. In Human class, the dance method says \"I can dance\", whereas in Girl class, the dance method says \"I can do classical dance\". So, let us call the parent class's dance method from the child class.\n",
    "\n",
    "You can see, in line 19, we are calling the dance method using super().dance(). This will call the dance method from the Human class. So, it prints \"I can dance\". Although, there was already an implementation for dance() in Girl(at line 15).\n",
    "\n",
    "When we call any method using super(), the method in the superclass will be called even if there is a method with the same name in the subclass."
   ]
  },
  {
   "cell_type": "markdown",
   "id": "120a4e7e",
   "metadata": {},
   "source": [
    "### Polymorphism\n",
    "Suppose, you are scrolling through your Instagram feeds on your phone. You suddenly felt like listening to some music as well, so you opened Spotify and started playing your favorite song. Then, after a while, you got a call, so you paused all the background activities you were doing, to answer it. It was your friend's call, asking you to text the phone number of some person. So, you messaged him the number, and resumed your activities.\n",
    "\n",
    "Did you notice one thing? You could scroll through feeds, listen to music, attend/make phone calls, message -- everything just with a single device - your Mobile Phone! Whoa!\n",
    "\n",
    "So, Polymorphism is something similar to that. 'Poly' means multiple and 'morph' means forms. So, polymorphism altogether means something that have multiple forms. Or, 'some thing' that can have multiple behaviours depending upon the situation.\n",
    "\n",
    "Polymorphism in OOPS refers to the functions having the same names but carrying different functionalities. Or, having the same function name, but different function signature(parameters passed to the function).\n",
    "\n",
    "A child class inherits all properties from it's parent class methods. But sometimes, it wants to add it's own implementation to the methods. There are ample of ways we can use polymorphism in Python.\n",
    "\n",
    "#### Example of inbuilt polymorphic functions :\n",
    "len() is an example of inbuilt polymorphic function. Because, we can use it to calclate the length of vaious types like string, list, tuple or dictionary, it will just compute the result and return."
   ]
  },
  {
   "cell_type": "code",
   "execution_count": 20,
   "id": "e712a2fb",
   "metadata": {},
   "outputs": [
    {
     "name": "stdout",
     "output_type": "stream",
     "text": [
      "5\n",
      "4\n",
      "3\n"
     ]
    }
   ],
   "source": [
    "print(len('deepa'))\n",
    "print(len([1,2,5,9]))\n",
    "print(len({'1':'apple','2':'cherry','3':'banana'}))"
   ]
  },
  {
   "cell_type": "markdown",
   "id": "518ddbce",
   "metadata": {},
   "source": [
    "Here we have passed a string, list and dictionary to the len function and it computed the result. So, it is the example of an inbuilt Polymorphic function.\n",
    "\n",
    "We also have polymorphism with the '+' addition operator. We can use it to 'add' integers or floats or any arithmetic addition operation. In the other hand, with String, it performs the 'concatenation' operation."
   ]
  },
  {
   "cell_type": "code",
   "execution_count": 21,
   "id": "ee19126e",
   "metadata": {},
   "outputs": [
    {
     "name": "stdout",
     "output_type": "stream",
     "text": [
      "9\n",
      "python programming\n",
      "5.5\n"
     ]
    }
   ],
   "source": [
    "x = 4 + 5\n",
    "y = 'python' + ' programming'\n",
    "z = 2.5 + 3\n",
    "print(x)\n",
    "print(y)\n",
    "print(z)"
   ]
  },
  {
   "cell_type": "markdown",
   "id": "1509c0ec",
   "metadata": {},
   "source": [
    "So, we can see that a single operator '+' has been used to carry out different operations for distinct data types.\n",
    "\n",
    "### Polymorphism with Class Methods\n",
    "We can perform polymorphism with the class methods. Lets see how:"
   ]
  },
  {
   "cell_type": "code",
   "execution_count": 22,
   "id": "cd9a0ae1",
   "metadata": {},
   "outputs": [
    {
     "name": "stdout",
     "output_type": "stream",
     "text": [
      "The monkey is yellow coloured!\n",
      "The monkey eats bananas!\n",
      "The rabbit is white coloured!\n",
      "The rabbit eats carrots!\n"
     ]
    }
   ],
   "source": [
    "class Monkey:\n",
    "    def color(self):\n",
    "        print(\"The monkey is yellow coloured!\")\n",
    "\n",
    "    def eats(self):\n",
    "        print(\"The monkey eats bananas!\")\n",
    "\n",
    "\n",
    "class Rabbit:\n",
    "    def color(self):\n",
    "        print(\"The rabbit is white coloured!\")\n",
    "\n",
    "    def eats(self):\n",
    "        print(\"The rabbit eats carrots!\")\n",
    "\n",
    "\n",
    "mon = Monkey()\n",
    "rab = Rabbit()\n",
    "for animal in (mon, rab):\n",
    "    animal.color()\n",
    "    animal.eats()"
   ]
  },
  {
   "cell_type": "markdown",
   "id": "d12fffcb",
   "metadata": {},
   "source": [
    "Here, we can iterate over the objects of Monkey & Rabbit using one variable - animal, and it can call the instance methods of both of them. So, here one variable animal is used to represent the behaviour (color() & eats()) of Monkey as well as Rabbit. So, it is following the rules of Polymorphism!"
   ]
  },
  {
   "cell_type": "markdown",
   "id": "88238681",
   "metadata": {},
   "source": [
    "### Polymorphism with Inheritance\n",
    "We can have polymorphism with inheritance as well. It is possible to modify a method in a child class that it has inherited from the parent class, adding it's own implementation to the method. This process of re-implementing a method in the child class is known as Method Overriding in Python. Here is an example that shows polymorphism with inheritance:\n",
    "\n",
    "Code:"
   ]
  },
  {
   "cell_type": "code",
   "execution_count": 23,
   "id": "d2ae9f1c",
   "metadata": {},
   "outputs": [
    {
     "name": "stdout",
     "output_type": "stream",
     "text": [
      "Circle has only one side\n",
      "3 sides for triangle\n"
     ]
    }
   ],
   "source": [
    "class Shape:\n",
    "    def no_of_side(self):\n",
    "        pass\n",
    "    def two_dim(self):\n",
    "        print(\"2D objects\")\n",
    "        \n",
    "class Circle(Shape):\n",
    "    def no_of_side(self):\n",
    "        print(\"Circle has only one side\")\n",
    "    \n",
    "class Triangle(Shape):\n",
    "    def no_of_side(self):\n",
    "        print(\"3 sides for triangle\")\n",
    "        \n",
    "cr = Circle()\n",
    "cr.no_of_side()\n",
    "\n",
    "tr = Triangle()\n",
    "tr.no_of_side()"
   ]
  },
  {
   "cell_type": "markdown",
   "id": "db462298",
   "metadata": {},
   "source": [
    "Here, the Square and Triangle class has overriden the method of the shape class. So, here the method no_of_sides has different implementations with respect to different shapes. So, it is in line with Polymorphism.\n",
    "\n",
    "### Encapsulation\n",
    "You must have seen medicine capsules, where all the medicines remain enclosed inside the cover of the capsule. Basically, capsule encapsulates several combinations of medicine.\n",
    "\n",
    "Similarly in programming, the variables and the methods remains enclosed inside a capsule called the 'class' ! Yes, we have learnt a lot about classes in Python and we already know that, all the variables and functions we create in OOP remains inside the class.\n",
    "\n",
    "The process of binding data and corresponding methods (behavior) together into a single unit is called encapsulation in Python.\n",
    "\n",
    "In other words, encapsulation is a programming technique that binds the class members (variables and methods) together and prevents them from being accessed by other classes. It is one of the concept of OOPS in Python.\n",
    "\n",
    "Encalpsulation is a way to ensure security. It hides the data from the access of outsiders. An organization can protect its object/information against unwanted access by clients or any unauthorized person by encapsulating it.\n",
    "\n",
    "### Getters and setters\n",
    "We mainly use encapsulation for Data Hiding. We does so by defining getter and setter methods for our classes. If anyone wants some data, they can only get it by calling the getter method. And, if they want to set some vlaue to the data, they must use the setter method for that, otherwise they won't be able to do the same. But internally, how this getter and setter methods are performing remains hidden from outside world.\n",
    "\n",
    "### Code of getter & setter in Encapsulation"
   ]
  },
  {
   "cell_type": "code",
   "execution_count": 25,
   "id": "26e08676",
   "metadata": {},
   "outputs": [
    {
     "name": "stdout",
     "output_type": "stream",
     "text": [
      "The name of book is The Witchers\n",
      "The name of book is The Witchers Returns\n"
     ]
    }
   ],
   "source": [
    "class Library:\n",
    "    def __init__(self, id, name):\n",
    "        self.bookId = id\n",
    "        self.bookName = name\n",
    "        \n",
    "    def setBookName(self, newBookName): #setters method to set the book name\n",
    "        self.bookName = newBookName\n",
    "        \n",
    "    def getBookName(self): #getters method to get the book name\n",
    "        print(f\"The name of book is {self.bookName}\")\n",
    "\n",
    "        \n",
    "book = Library(101,\"The Witchers\")\n",
    "book.getBookName()\n",
    "book.setBookName(\"The Witchers Returns\")\n",
    "book.getBookName()"
   ]
  },
  {
   "cell_type": "markdown",
   "id": "f5939a91",
   "metadata": {},
   "source": [
    "In the above example, we defined the getter getBookName() and setter setBookName() to get and set the names of books respectively. So, now we can only get and set the book names upon calling the methods, otherwise, we cannot directly get or modify any value. This promotes high security to our data, because others are not aware at a deep level how the following methods are implemented(if their access are restricted).\n",
    "\n",
    "We can also promote safety of our data using access modifiers. Let's see what are access modifiers.\n",
    "\n",
    "### Access Modifiers\n",
    "Access modifiers limit access to the variables and methods of a class. Python provides three types of access modifiers private, public, and protected.\n",
    "\n",
    "In Python, we don’t have direct access modifiers like public, private, and protected. We can achieve this by using single underscore and double underscores.\n",
    "\n",
    "- Public Member: Accessible anywhere from outside the class.\n",
    "- Private Member: Accessible only within the class\n",
    "- Protected Member: Accessible within the class and it's sub-classes\n",
    "\n",
    "**Single underscore _ represents Protected class. Double underscore __ represents Private class.**\n",
    "\n",
    "Suppose we try to make an Employee class:"
   ]
  },
  {
   "cell_type": "code",
   "execution_count": 29,
   "id": "84709263",
   "metadata": {},
   "outputs": [
    {
     "name": "stdout",
     "output_type": "stream",
     "text": [
      "The Employee's name is John Gates\n",
      "The Employee's ID is 12233\n",
      "THe salary of Employee is rs 4000\n"
     ]
    },
    {
     "ename": "AttributeError",
     "evalue": "'Employee' object has no attribute 'salary'",
     "output_type": "error",
     "traceback": [
      "\u001b[1;31m---------------------------------------------------------------------------\u001b[0m",
      "\u001b[1;31mAttributeError\u001b[0m                            Traceback (most recent call last)",
      "\u001b[1;32m~\\AppData\\Local\\Temp\\ipykernel_19116\\883946099.py\u001b[0m in \u001b[0;36m<module>\u001b[1;34m\u001b[0m\n\u001b[0;32m     13\u001b[0m \u001b[0mprint\u001b[0m\u001b[1;33m(\u001b[0m\u001b[1;34mf\"The Employee's ID is {employee1._empID}\"\u001b[0m\u001b[1;33m)\u001b[0m\u001b[1;33m\u001b[0m\u001b[1;33m\u001b[0m\u001b[0m\n\u001b[0;32m     14\u001b[0m \u001b[0memployee1\u001b[0m\u001b[1;33m.\u001b[0m\u001b[0mgetSalary\u001b[0m\u001b[1;33m(\u001b[0m\u001b[1;33m)\u001b[0m \u001b[1;31m#will be able to access the employee's salary now using the getter method\u001b[0m\u001b[1;33m\u001b[0m\u001b[1;33m\u001b[0m\u001b[0m\n\u001b[1;32m---> 15\u001b[1;33m \u001b[0mprint\u001b[0m\u001b[1;33m(\u001b[0m\u001b[1;34mf\"The Employee's salary is {employee1.salary}\"\u001b[0m\u001b[1;33m)\u001b[0m \u001b[1;31m#will throw an error because salary is defined as private\u001b[0m\u001b[1;33m\u001b[0m\u001b[1;33m\u001b[0m\u001b[0m\n\u001b[0m",
      "\u001b[1;31mAttributeError\u001b[0m: 'Employee' object has no attribute 'salary'"
     ]
    }
   ],
   "source": [
    "class Employee:\n",
    "    def __init__(self,name, employeeId, salary):\n",
    "        self.name = name\n",
    "        self._empID = employeeId #make it portected\n",
    "        self.__salary = salary # making salary private\n",
    "        \n",
    "    def getSalary(self):\n",
    "        print(f\"THe salary of Employee is {self.__salary}\")\n",
    "        \n",
    "employee1 = Employee(\"John Gates\", 12233, \"rs 4000\")\n",
    "\n",
    "print(f\"The Employee's name is {employee1.name}\")\n",
    "print(f\"The Employee's ID is {employee1._empID}\")\n",
    "employee1.getSalary() #will be able to access the employee's salary now using the getter method\n",
    "print(f\"The Employee's salary is {employee1.salary}\") #will throw an error because salary is defined as private"
   ]
  },
  {
   "cell_type": "markdown",
   "id": "f790c055",
   "metadata": {},
   "source": [
    "We can access private members from outside of a class by creating public method to access private members (just like we did above). There is one more method to get access called name mangling.\n",
    "\n",
    "A protected data member is used when inheritance is used and you want the data members to have access only to the child classes.\n",
    "\n",
    "So, encapsulation protects an object from unauthorized access. It allows private and protected access levels to prevent accidental data modification."
   ]
  },
  {
   "cell_type": "markdown",
   "id": "00135e28",
   "metadata": {},
   "source": [
    "## Abstraction\n",
    "It is likely that you are reading this article on your laptop, phone, or tablet. You are also probably making notes, highlighting important points, and you may be saving some points in your internal files while reading it. As you read this, all you see before you is a 'screen' and all this data that is shown to you. As you type, all you see is the keys on the keyboard and you don't have to worry about the internal details, like how pressing a key may lead to displaying that word onscreen. Or, how clicking on a button on your screen could open a new tab!\n",
    "\n",
    "So, everything we can see here is at an abstract level. We are not able to see the internal details, but just the result it is producing(which actually matters to us).\n",
    "\n",
    "Abstraction in a similar way, just shows us the functionalities anything holds, hiding all the implementations or inner details.\n",
    "\n",
    "The main goal of Abstraction is to hide background details or any unnecessary implementation about the data so that users only see the required information. It helps in handling the complexity of the codes.\n",
    "\n",
    "## Key Points of Abstract classes\n",
    "- Abstraction is used for hiding the background details or any unnecessary implementation about the data, so that users only see the required information.\n",
    "- In Python, abstraction can be achieved by using abstract classes\n",
    "- A class that consists of one or more abstract methods is called the \"abstract class\".\n",
    "- Abstract methods do not contain any implementation of their own.\n",
    "- Abstract class can be inherited by any subclass. The subclasses that inherits the abstract classes provides the implementations for their abstract methods .\n",
    "- Abstract classes can act like blueprint to other classes, which are useful when we are designing large functions. And the subclass which inherits them can refer the abstract methods for implementing the features.\n",
    "- Python provides the abc module to use the abstraction\n",
    "\n",
    "### Syntax of Abstract Class in Python\n",
    "To use abstraction, it is mandatory for us to import ABC class from the abc module."
   ]
  },
  {
   "cell_type": "code",
   "execution_count": null,
   "id": "755444c5",
   "metadata": {},
   "outputs": [],
   "source": [
    "from abc import ABC  \n",
    "class ClassName(ABC):  "
   ]
  },
  {
   "cell_type": "markdown",
   "id": "b955e3c6",
   "metadata": {},
   "source": [
    "ABC stands for Abstract Base class. The abc module provides the base for defining Abstract Base classes (ABC).\n",
    "\n",
    "Let us take an example and see the implementation of abstract class:\n",
    "\n",
    "So, the above code for your reference is:"
   ]
  },
  {
   "cell_type": "code",
   "execution_count": 33,
   "id": "ecfbfbd6",
   "metadata": {},
   "outputs": [
    {
     "name": "stdout",
     "output_type": "stream",
     "text": [
      "Bike has 2 wheels\n",
      "Truch has 4 wheels\n"
     ]
    }
   ],
   "source": [
    "from abc import ABC\n",
    "\n",
    "class Vehicle(ABC):\n",
    "    def no_of_wheels(self):\n",
    "        pass\n",
    "    \n",
    "class Bike(Vehicle):\n",
    "    def no_of_wheels(self):\n",
    "        print(\"Bike has 2 wheels\")\n",
    "        \n",
    "class Tempo(Vehicle):\n",
    "    def no_od_wheels(self):\n",
    "        print(\"Tempo have 3 wheels\")\n",
    "        \n",
    "class Truck(Vehicle):\n",
    "    def no_of_wheels(self):\n",
    "        print(\"Truch has 4 wheels\")\n",
    "        \n",
    "        \n",
    "bike = Bike()\n",
    "bike.no_of_wheels()\n",
    "tempo = Tempo()\n",
    "tempo.no_of_wheels()\n",
    "truck = Truck()\n",
    "truck.no_of_wheels()"
   ]
  },
  {
   "cell_type": "markdown",
   "id": "b33e00da",
   "metadata": {},
   "source": [
    "## Advantages of OOPS in Python\n",
    "There are numerous advantages of OOPS concepts in Python, making it favourable for writing serious softwares. Let us look into a few of them --\n",
    "\n",
    "- Effective problem solving because, for each mini-problem, we write a class that does what is required. And then we can reuse those classes, which makes it even quicker to solve the next problem.\n",
    "- Flexibility of having multiple forms of a single class, through polymorphism\n",
    "- Reduced high complexity of code, though abstraction.\n",
    "- High security and data privacy through encapsulation.\n",
    "- Reuse of code, by the child class inheriting properties of parent class through inheritance.\n",
    "- Modularity of code allows us to do easy debugging, instead of looking into hundreds lines of codes to find a single issue."
   ]
  },
  {
   "cell_type": "code",
   "execution_count": null,
   "id": "94a25c2c",
   "metadata": {},
   "outputs": [],
   "source": []
  }
 ],
 "metadata": {
  "kernelspec": {
   "display_name": "Python 3 (ipykernel)",
   "language": "python",
   "name": "python3"
  },
  "language_info": {
   "codemirror_mode": {
    "name": "ipython",
    "version": 3
   },
   "file_extension": ".py",
   "mimetype": "text/x-python",
   "name": "python",
   "nbconvert_exporter": "python",
   "pygments_lexer": "ipython3",
   "version": "3.9.13"
  }
 },
 "nbformat": 4,
 "nbformat_minor": 5
}
